{
  "nbformat": 4,
  "nbformat_minor": 0,
  "metadata": {
    "colab": {
      "provenance": []
    },
    "kernelspec": {
      "name": "python3",
      "display_name": "Python 3"
    },
    "language_info": {
      "name": "python"
    }
  },
  "cells": [
    {
      "cell_type": "markdown",
      "source": [
        "# Inheritance\n",
        "\n",
        "* types of inheritance\n",
        "* using super() function\n",
        "* method overriding"
      ],
      "metadata": {
        "id": "4Yx7w8AbIHc4"
      }
    },
    {
      "cell_type": "code",
      "source": [
        "# Parent class\n",
        "class Animal:\n",
        "  def sound(self):\n",
        "    print(\"Animal makes a sound\")\n",
        "\n",
        "# Child class\n",
        "class Dog(Animal):\n",
        "  def sound(self):\n",
        "    print(\"Dog barks\")\n",
        "\n",
        "class Dog1(Animal):\n",
        "  def barks(self):\n",
        "    print(\"Dog barks\")\n",
        "\n",
        "# Child class\n",
        "class Cat(Animal):\n",
        "  def sound(self):\n",
        "    print(\"Cat meows\")\n",
        "\n",
        "dog = Dog()\n",
        "dog.sound()\n",
        "\n",
        "dog1 = Dog1()\n",
        "dog1.sound() # it will inherit from parent class as it has bark method not sound\n",
        "\n",
        "cat = Cat()\n",
        "cat.sound()"
      ],
      "metadata": {
        "colab": {
          "base_uri": "https://localhost:8080/"
        },
        "id": "TNzBDbsIJX_H",
        "outputId": "8172f5a4-82e4-492c-9584-abb2eec8ae97"
      },
      "execution_count": 10,
      "outputs": [
        {
          "output_type": "stream",
          "name": "stdout",
          "text": [
            "Dog barks\n",
            "Animal makes a sound\n",
            "Cat meows\n"
          ]
        }
      ]
    },
    {
      "cell_type": "code",
      "source": [
        "# types of inheritance\n",
        "\n",
        "# single inheritance\n",
        "\n",
        "class Parent:\n",
        "  def display(self):\n",
        "    print(\"This is parent class\")\n",
        "\n",
        "class Child(Parent):\n",
        "  pass\n",
        "\n",
        "child = Child()\n",
        "child.display()"
      ],
      "metadata": {
        "colab": {
          "base_uri": "https://localhost:8080/"
        },
        "id": "v8B7HHD0KbNm",
        "outputId": "5fa2051a-360e-4426-b2d7-b6597ed39f77"
      },
      "execution_count": 12,
      "outputs": [
        {
          "output_type": "stream",
          "name": "stdout",
          "text": [
            "This is parent class\n"
          ]
        }
      ]
    },
    {
      "cell_type": "code",
      "source": [
        "# multiple inheritance\n",
        "\n",
        "class Parent1:\n",
        "  def display1(self):\n",
        "    print(\"This is parent1 class\")\n",
        "\n",
        "class Parent2:\n",
        "  def display2(self):\n",
        "    print(\"This is parent2 class\")\n",
        "\n",
        "class Child(Parent1, Parent2):\n",
        "  pass\n",
        "\n",
        "child = Child()\n",
        "child.display1()\n",
        "child.display2()"
      ],
      "metadata": {
        "colab": {
          "base_uri": "https://localhost:8080/"
        },
        "id": "5Sixwmd2KqZW",
        "outputId": "1780f280-d9df-4f96-cd8a-dc7568ce0628"
      },
      "execution_count": 13,
      "outputs": [
        {
          "output_type": "stream",
          "name": "stdout",
          "text": [
            "This is parent1 class\n",
            "This is parent2 class\n"
          ]
        }
      ]
    },
    {
      "cell_type": "code",
      "source": [
        "# multilevel inheritance\n",
        "\n",
        "class GrandParent:\n",
        "  def display(self):\n",
        "    print(\"This is grandparent class\")\n",
        "\n",
        "class Parent(GrandParent):\n",
        "  def display1(self):\n",
        "    print(\"This is parent class\")\n",
        "\n",
        "class Child(Parent):\n",
        "  def display2(self):\n",
        "    print(\"This is child class\")\n",
        "\n",
        "child = Child()\n",
        "child.display()\n",
        "child.display1()\n",
        "child.display2()"
      ],
      "metadata": {
        "colab": {
          "base_uri": "https://localhost:8080/"
        },
        "id": "iJdSwbRZLiiH",
        "outputId": "6c101625-4c49-4a8d-f5fb-8f76fda2567a"
      },
      "execution_count": 14,
      "outputs": [
        {
          "output_type": "stream",
          "name": "stdout",
          "text": [
            "This is grandparent class\n",
            "This is parent class\n",
            "This is child class\n"
          ]
        }
      ]
    },
    {
      "cell_type": "code",
      "source": [
        "# using the super() function\n",
        "\n",
        "class Animal:\n",
        "  def __init__(self):\n",
        "    print(\"Animal created\")\n",
        "\n",
        "class Dog(Animal):\n",
        "  def __init__(self):\n",
        "    super().__init__()\n",
        "    print(\"Dog created\")\n",
        "\n",
        "dog = Dog()"
      ],
      "metadata": {
        "colab": {
          "base_uri": "https://localhost:8080/"
        },
        "id": "wkPIS-d_PQOx",
        "outputId": "4c070bff-ca38-42ef-fce6-0a82da2afd4f"
      },
      "execution_count": 15,
      "outputs": [
        {
          "output_type": "stream",
          "name": "stdout",
          "text": [
            "Animal created\n",
            "Dog created\n"
          ]
        }
      ]
    },
    {
      "cell_type": "code",
      "source": [
        "# method overriding\n",
        "\n",
        "class Vehicle:\n",
        "  def fuel_type(self):\n",
        "    print(\"This is a petrol/diesel vehicle\")\n",
        "\n",
        "class Electrical(Vehicle):\n",
        "  def fuel_type(self):\n",
        "    print(\"Fuel type: electrical\")\n",
        "\n",
        "car = Electrical()\n",
        "car.fuel_type()"
      ],
      "metadata": {
        "colab": {
          "base_uri": "https://localhost:8080/"
        },
        "id": "Zt1--1bIPwLz",
        "outputId": "e9797b27-ddd6-4799-8fe5-db5d8afb0238"
      },
      "execution_count": 16,
      "outputs": [
        {
          "output_type": "stream",
          "name": "stdout",
          "text": [
            "Fuel type: electrical\n"
          ]
        }
      ]
    },
    {
      "cell_type": "markdown",
      "source": [
        "# Project: Employee Management System"
      ],
      "metadata": {
        "id": "4obQQkKCJT-m"
      }
    },
    {
      "cell_type": "code",
      "source": [
        "# base class\n",
        "class Employee:\n",
        "  def __init__(self, name, emp_id, salary):\n",
        "    self.name = name\n",
        "    self.emp_id = emp_id\n",
        "    self.salary = salary\n",
        "\n",
        "  def display_info(self):\n",
        "    print(\"\\n---- Employee Details ----\")\n",
        "    print(f\"Name: {self.name}\")\n",
        "    print(f\"Employee ID: {self.emp_id}\")\n",
        "    print(f\"Salary: {self.salary}\")\n",
        "\n",
        "  def calculate_bonus(self):\n",
        "    return self.salary * 0.1\n",
        "\n",
        "# derived class\n",
        "class Manager(Employee):\n",
        "  def __init__(self, name, emp_id, salary, department):\n",
        "    super().__init__(name, emp_id, salary)\n",
        "    self.department = department\n",
        "\n",
        "  def display_info(self):\n",
        "    super().display_info()\n",
        "    print(f\"Department: {self.department}\")\n",
        "\n",
        "  def calculate_bonus(self):\n",
        "    return self.salary * 0.2\n",
        "\n",
        "\n",
        "# derived class\n",
        "class Developer(Employee):\n",
        "  def __init__(self, name, emp_id, salary, programming_language):\n",
        "    super().__init__(name, emp_id, salary)\n",
        "    self.programming_language = programming_language\n",
        "\n",
        "  def display_info(self):\n",
        "    super().display_info()\n",
        "    print(f\"Programming Language: {self.programming_language}\")\n",
        "\n",
        "  def calculate_bonus(self):\n",
        "    return self.salary * 0.5\n",
        "\n",
        "# main program\n",
        "employees = []\n",
        "\n",
        "def add_employee():\n",
        "  print(\"\\n---- choose employee type ----\")\n",
        "  print(\"1. Regular employee\")\n",
        "  print(\"2. Manager\")\n",
        "  print(\"3. Developer\")\n",
        "  choice = int(input(\"Enter your choice: \").strip())\n",
        "\n",
        "  name = input(\"Enter employee name: \").strip()\n",
        "  emp_id = input(\"Enter employee ID: \").strip()\n",
        "  salary = float(input(\"Enter employee salary: \").strip())\n",
        "\n",
        "  if choice == 1:\n",
        "    employees.append(Employee(name, emp_id, salary))\n",
        "  elif choice == 2:\n",
        "    department = input(\"Enter department: \").strip()\n",
        "    employees.append(Manager(name, emp_id, salary, department))\n",
        "  elif choice == 3:\n",
        "    programming_language = input(\"Enter programming language: \").strip()\n",
        "    employees.append(Developer(name, emp_id, salary, programming_language))\n",
        "  else:\n",
        "    print(\"Invalid choice\")\n",
        "\n",
        "def display_employees():\n",
        "  print(\"\\n---- Employee List ----\")\n",
        "  for employee in employees:\n",
        "    employee.display_info()\n",
        "    print(\"Bonus:\", employee.calculate_bonus())\n",
        "\n",
        "# menu\n",
        "while True:\n",
        "  print(\"\\n---- Employee Management System ----\")\n",
        "  print(\"1. Add employee\")\n",
        "  print(\"2. Display employees\")\n",
        "  print(\"3. Exit\")\n",
        "  choice = int(input(\"Enter your choice(1-3): \").strip())\n",
        "\n",
        "  if choice == 1:\n",
        "    add_employee()\n",
        "  elif choice == 2:\n",
        "    display_employees()\n",
        "  elif choice == 3:\n",
        "    print(\"Exiting program\")\n",
        "    break\n",
        "  else:\n",
        "    print(\"Invalid choice\")"
      ],
      "metadata": {
        "colab": {
          "base_uri": "https://localhost:8080/"
        },
        "id": "OTu0giBlQvre",
        "outputId": "20205840-2360-48cb-9841-4e79d085d441"
      },
      "execution_count": 17,
      "outputs": [
        {
          "output_type": "stream",
          "name": "stdout",
          "text": [
            "\n",
            "---- Employee Management System ----\n",
            "1. Add employee\n",
            "2. Display employees\n",
            "3. Exit\n",
            "Enter your choice(1-3): 1\n",
            "\n",
            "---- choose employee type ----\n",
            "1. Regular employee\n",
            "2. Manager\n",
            "3. Developer\n",
            "Enter your choice: 1\n",
            "Enter employee name: Josh Mua\n",
            "Enter employee ID: 1\n",
            "Enter employee salary: 12000\n",
            "\n",
            "---- Employee Management System ----\n",
            "1. Add employee\n",
            "2. Display employees\n",
            "3. Exit\n",
            "Enter your choice(1-3): 1\n",
            "\n",
            "---- choose employee type ----\n",
            "1. Regular employee\n",
            "2. Manager\n",
            "3. Developer\n",
            "Enter your choice: 2\n",
            "Enter employee name: Sayalee Bidwai\n",
            "Enter employee ID: 2\n",
            "Enter employee salary: 12500\n",
            "Enter department: Project 1\n",
            "\n",
            "---- Employee Management System ----\n",
            "1. Add employee\n",
            "2. Display employees\n",
            "3. Exit\n",
            "Enter your choice(1-3): 1\n",
            "\n",
            "---- choose employee type ----\n",
            "1. Regular employee\n",
            "2. Manager\n",
            "3. Developer\n",
            "Enter your choice: 3\n",
            "Enter employee name: Satish Khande\n",
            "Enter employee ID: 3\n",
            "Enter employee salary: 14000\n",
            "Enter programming language: Python\n",
            "\n",
            "---- Employee Management System ----\n",
            "1. Add employee\n",
            "2. Display employees\n",
            "3. Exit\n",
            "Enter your choice(1-3): 2\n",
            "\n",
            "---- Employee List ----\n",
            "\n",
            "---- Employee Details ----\n",
            "Name: Josh Mua\n",
            "Employee ID: 1\n",
            "Salary: 12000.0\n",
            "Bonus: 1200.0\n",
            "\n",
            "---- Employee Details ----\n",
            "Name: Sayalee Bidwai\n",
            "Employee ID: 2\n",
            "Salary: 12500.0\n",
            "Department: Project 1\n",
            "Bonus: 2500.0\n",
            "\n",
            "---- Employee Details ----\n",
            "Name: Satish Khande\n",
            "Employee ID: 3\n",
            "Salary: 14000.0\n",
            "Programming Language: Python\n",
            "Bonus: 7000.0\n",
            "\n",
            "---- Employee Management System ----\n",
            "1. Add employee\n",
            "2. Display employees\n",
            "3. Exit\n",
            "Enter your choice(1-3): 4\n",
            "Invalid choice\n",
            "\n",
            "---- Employee Management System ----\n",
            "1. Add employee\n",
            "2. Display employees\n",
            "3. Exit\n",
            "Enter your choice(1-3): 3\n",
            "Exiting program\n"
          ]
        }
      ]
    }
  ]
}