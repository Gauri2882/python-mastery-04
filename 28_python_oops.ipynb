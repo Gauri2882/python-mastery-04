{
  "nbformat": 4,
  "nbformat_minor": 0,
  "metadata": {
    "colab": {
      "provenance": []
    },
    "kernelspec": {
      "name": "python3",
      "display_name": "Python 3"
    },
    "language_info": {
      "name": "python"
    }
  },
  "cells": [
    {
      "cell_type": "markdown",
      "source": [
        "# Static and Class Methods\n",
        "\n",
        "* Static vs Class Methods\n",
        "* Calling Static and Class Methods\n",
        "* Practical use cases"
      ],
      "metadata": {
        "id": "4Yx7w8AbIHc4"
      }
    },
    {
      "cell_type": "code",
      "source": [
        "# Static vs Class Methods\n",
        "\n",
        "class Calculator:\n",
        "  base_value = 100\n",
        "\n",
        "  @staticmethod\n",
        "  def add(value1, value2):\n",
        "    return value1 + value2\n",
        "\n",
        "  @classmethod\n",
        "  def multiply_base(cls, multiplier):\n",
        "    return cls.base_value * multiplier\n",
        "\n",
        "# using static method\n",
        "print(Calculator.add(10, 20))\n",
        "\n",
        "# using class method\n",
        "print(Calculator.multiply_base(2))"
      ],
      "metadata": {
        "id": "ABxhAHwl9BxR",
        "colab": {
          "base_uri": "https://localhost:8080/"
        },
        "outputId": "c7719fa7-1f86-4ea7-9b87-1af957c725d2"
      },
      "execution_count": 1,
      "outputs": [
        {
          "output_type": "stream",
          "name": "stdout",
          "text": [
            "30\n",
            "200\n"
          ]
        }
      ]
    },
    {
      "cell_type": "code",
      "source": [
        "class Utility:\n",
        "  @staticmethod\n",
        "  def greet_user(name):\n",
        "    print(f\"Hello, {name}\")\n",
        "\n",
        "U = Utility()\n",
        "U.greet_user(\"John\")"
      ],
      "metadata": {
        "colab": {
          "base_uri": "https://localhost:8080/"
        },
        "id": "o9gl_jh_Uwry",
        "outputId": "7db8b553-284e-474a-a6d6-5966f10ea913"
      },
      "execution_count": 2,
      "outputs": [
        {
          "output_type": "stream",
          "name": "stdout",
          "text": [
            "Hello, John\n"
          ]
        }
      ]
    },
    {
      "cell_type": "code",
      "source": [
        "class Counter:\n",
        "  count = 0\n",
        "\n",
        "  @classmethod\n",
        "  def increment(cls):\n",
        "    cls.count += 1\n",
        "\n",
        "\n",
        "c1 = Counter()\n",
        "c1.increment()\n",
        "print(c1.count)"
      ],
      "metadata": {
        "colab": {
          "base_uri": "https://localhost:8080/"
        },
        "id": "mixn6fKUVjmk",
        "outputId": "8a4a47c0-4b93-4c22-f9e5-31b2821a4700"
      },
      "execution_count": 4,
      "outputs": [
        {
          "output_type": "stream",
          "name": "stdout",
          "text": [
            "1\n"
          ]
        }
      ]
    },
    {
      "cell_type": "markdown",
      "source": [
        "# Project: Inventory Management Systems"
      ],
      "metadata": {
        "id": "h2cV8q4k9CN4"
      }
    },
    {
      "cell_type": "code",
      "source": [
        "class Inventory:\n",
        "    total_items = 0\n",
        "\n",
        "    def __init__(self, product_name, price, quantity):\n",
        "        self.product_name = product_name\n",
        "        self.price = price\n",
        "        self.quantity = quantity\n",
        "        Inventory.total_items += quantity\n",
        "\n",
        "    # Inventory method: show product details\n",
        "    def show_product_details(self):\n",
        "        print(\"\\n---- Product Details ----\")\n",
        "        print(f\"Product Name: {self.product_name}\")\n",
        "        print(f\"Price: {self.price}\")\n",
        "        print(f\"Quantity: {self.quantity}\")\n",
        "\n",
        "    # Instance Method: Sell product\n",
        "    def sell_product(self, amount):\n",
        "        if amount <= self.quantity:\n",
        "            self.quantity -= amount\n",
        "            Inventory.total_items -= amount\n",
        "            print(f\"{amount} units of {self.product_name} sold.\")\n",
        "        else:\n",
        "            print(\"Insufficient quantity available.\")\n",
        "\n",
        "    # Static method: calculate discount\n",
        "    @staticmethod\n",
        "    def calculate_discount(price, discount_percentage):\n",
        "        return price * (1 - discount_percentage / 100)\n",
        "\n",
        "    # Class method: total items report\n",
        "    @classmethod\n",
        "    def total_items_report(cls):\n",
        "        print(f\"Total items in inventory: {cls.total_items}\")\n",
        "\n",
        "\n",
        "# main program\n",
        "products = []\n",
        "\n",
        "# add product to inventory\n",
        "def add_product():\n",
        "    product_name = input(\"Enter product name: \")\n",
        "    price = float(input(\"Enter price: \"))\n",
        "    quantity = int(input(\"Enter quantity: \"))\n",
        "    product = Inventory(product_name, price, quantity)\n",
        "    products.append(product)\n",
        "    print(f\"{quantity} units of {product_name} added to inventory.\")\n",
        "\n",
        "# display all products\n",
        "def view_products():\n",
        "    print(\"\\n---- Inventory ----\")\n",
        "    if not products:\n",
        "        print(\"No product inventory\")\n",
        "    else:\n",
        "        for product in products:\n",
        "            product.show_product_details()\n",
        "\n",
        "# sell product\n",
        "def sell_product():\n",
        "    product_name = input(\"Enter product name to sell: \")\n",
        "    for product in products:\n",
        "        if product.product_name == product_name:\n",
        "            amount = int(input(\"Enter amount to sell: \"))\n",
        "            product.sell_product(amount)\n",
        "            break\n",
        "    else:\n",
        "        print(\"Product not found in inventory\")\n",
        "\n",
        "# calculate discount\n",
        "def discount_price():\n",
        "    price = float(input(\"Enter price: \"))\n",
        "    discount_percentage = float(input(\"Enter discount percentage: \"))\n",
        "    discounted_price = Inventory.calculate_discount(price, discount_percentage)\n",
        "    print(f\"Discounted Price: {discounted_price}\")\n",
        "\n",
        "# main menu\n",
        "while True:\n",
        "    print(\"\\n---- Inventory Management System ----\")\n",
        "    print(\"1. Add product\")\n",
        "    print(\"2. View product\")\n",
        "    print(\"3. Sell product\")\n",
        "    print(\"4. Calculate discount price\")\n",
        "    print(\"5. Total items report\")\n",
        "    print(\"6. Exit\")\n",
        "\n",
        "    choice = input(\"Enter your choice (1-6): \")\n",
        "\n",
        "    if choice == \"1\":\n",
        "        add_product()\n",
        "    elif choice == \"2\":\n",
        "        view_products()\n",
        "    elif choice == \"3\":\n",
        "        sell_product()\n",
        "    elif choice == \"4\":\n",
        "        discount_price()\n",
        "    elif choice == \"5\":\n",
        "        Inventory.total_items_report()\n",
        "    elif choice == \"6\":\n",
        "        print(\"Exiting the program\")\n",
        "        break\n",
        "    else:\n",
        "        print(\"Invalid choice. Please choose between 1-6\")\n"
      ],
      "metadata": {
        "colab": {
          "base_uri": "https://localhost:8080/"
        },
        "id": "lWPQqEa-WCym",
        "outputId": "acd7677e-e073-4e75-9481-03d3c4b20628"
      },
      "execution_count": 7,
      "outputs": [
        {
          "output_type": "stream",
          "name": "stdout",
          "text": [
            "\n",
            "---- Inventory Management System ----\n",
            "1. Add product\n",
            "2. View product\n",
            "3. Sell product\n",
            "4. Calculate discount price\n",
            "5. Total items report\n",
            "6. Exit\n",
            "Enter your choice (1-6): 1\n",
            "Enter product name: Pilgrim\n",
            "Enter price: 700\n",
            "Enter quantity: 12\n",
            "12 units of Pilgrim added to inventory.\n",
            "\n",
            "---- Inventory Management System ----\n",
            "1. Add product\n",
            "2. View product\n",
            "3. Sell product\n",
            "4. Calculate discount price\n",
            "5. Total items report\n",
            "6. Exit\n",
            "Enter your choice (1-6): 1\n",
            "Enter product name: Dove\n",
            "Enter price: 340\n",
            "Enter quantity: 46\n",
            "46 units of Dove added to inventory.\n",
            "\n",
            "---- Inventory Management System ----\n",
            "1. Add product\n",
            "2. View product\n",
            "3. Sell product\n",
            "4. Calculate discount price\n",
            "5. Total items report\n",
            "6. Exit\n",
            "Enter your choice (1-6): 1\n",
            "Enter product name: Nivea\n",
            "Enter price: 230\n",
            "Enter quantity: 78\n",
            "78 units of Nivea added to inventory.\n",
            "\n",
            "---- Inventory Management System ----\n",
            "1. Add product\n",
            "2. View product\n",
            "3. Sell product\n",
            "4. Calculate discount price\n",
            "5. Total items report\n",
            "6. Exit\n",
            "Enter your choice (1-6): 2\n",
            "\n",
            "---- Inventory ----\n",
            "\n",
            "---- Product Details ----\n",
            "Product Name: Pilgrim\n",
            "Price: 700.0\n",
            "Quantity: 12\n",
            "\n",
            "---- Product Details ----\n",
            "Product Name: Dove\n",
            "Price: 340.0\n",
            "Quantity: 46\n",
            "\n",
            "---- Product Details ----\n",
            "Product Name: Nivea\n",
            "Price: 230.0\n",
            "Quantity: 78\n",
            "\n",
            "---- Inventory Management System ----\n",
            "1. Add product\n",
            "2. View product\n",
            "3. Sell product\n",
            "4. Calculate discount price\n",
            "5. Total items report\n",
            "6. Exit\n",
            "Enter your choice (1-6): 3\n",
            "Enter product name to sell: Nivea\n",
            "Enter amount to sell: 35\n",
            "35 units of Nivea sold.\n",
            "\n",
            "---- Inventory Management System ----\n",
            "1. Add product\n",
            "2. View product\n",
            "3. Sell product\n",
            "4. Calculate discount price\n",
            "5. Total items report\n",
            "6. Exit\n",
            "Enter your choice (1-6): 4\n",
            "Enter price: 450\n",
            "Enter discount percentage: 12\n",
            "Discounted Price: 396.0\n",
            "\n",
            "---- Inventory Management System ----\n",
            "1. Add product\n",
            "2. View product\n",
            "3. Sell product\n",
            "4. Calculate discount price\n",
            "5. Total items report\n",
            "6. Exit\n",
            "Enter your choice (1-6): 5\n",
            "Total items in inventory: 101\n",
            "\n",
            "---- Inventory Management System ----\n",
            "1. Add product\n",
            "2. View product\n",
            "3. Sell product\n",
            "4. Calculate discount price\n",
            "5. Total items report\n",
            "6. Exit\n",
            "Enter your choice (1-6): 6\n",
            "Exiting the program\n"
          ]
        }
      ]
    }
  ]
}