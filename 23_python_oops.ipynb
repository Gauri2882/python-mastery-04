{
  "nbformat": 4,
  "nbformat_minor": 0,
  "metadata": {
    "colab": {
      "provenance": []
    },
    "kernelspec": {
      "name": "python3",
      "display_name": "Python 3"
    },
    "language_info": {
      "name": "python"
    }
  },
  "cells": [
    {
      "cell_type": "markdown",
      "source": [
        "# Classes and Objects\n",
        "\n",
        "*   class attributes and methods\n",
        "*   Constructors `(__init__ method)`\n",
        "*   working with multiple objects"
      ],
      "metadata": {
        "id": "4Yx7w8AbIHc4"
      }
    },
    {
      "cell_type": "code",
      "source": [
        "class Car:\n",
        "  def __init__(self, brand, model):\n",
        "    self.brand = brand\n",
        "    self.model = model\n",
        "\n",
        "  def display_info(self):\n",
        "    print(f\"Brand: {self.brand}, Model: {self.model}\")\n",
        "\n",
        "car1 = Car(\"Toyota\", \"Camry\")\n",
        "car2 = Car(\"Honda\", \"Civic\")\n",
        "\n",
        "car1.display_info()\n",
        "car2.display_info()"
      ],
      "metadata": {
        "colab": {
          "base_uri": "https://localhost:8080/"
        },
        "id": "10oiwor9W84O",
        "outputId": "6d5f9a56-2de5-4ffd-de28-2bf293c47221"
      },
      "execution_count": 2,
      "outputs": [
        {
          "output_type": "stream",
          "name": "stdout",
          "text": [
            "Brand: Toyota, Model: Camry\n",
            "Brand: Honda, Model: Civic\n"
          ]
        }
      ]
    },
    {
      "cell_type": "code",
      "source": [
        "# class attributes and methods\n",
        "class Dog:\n",
        "  def __init__(self, name, breed): # attribute\n",
        "    self.name = name\n",
        "    self.breed = breed\n",
        "\n",
        "  def bark(self): # method\n",
        "    print(f\"{self.name} is barking!\")\n",
        "\n",
        "dog1 = Dog(\"Buddy\", \"Golden Retriever\")\n",
        "dog2 = Dog(\"Max\", \"Labrador\")\n",
        "\n",
        "dog1.bark()\n",
        "dog2.bark()"
      ],
      "metadata": {
        "colab": {
          "base_uri": "https://localhost:8080/"
        },
        "id": "NCthg59HYKYn",
        "outputId": "0ced2270-0ab4-4050-a7b2-a6c6794570ad"
      },
      "execution_count": 4,
      "outputs": [
        {
          "output_type": "stream",
          "name": "stdout",
          "text": [
            "Buddy is barking!\n",
            "Max is barking!\n"
          ]
        }
      ]
    },
    {
      "cell_type": "code",
      "source": [
        "class Person:\n",
        "  def __init__(self, name, age):\n",
        "    self.name = name\n",
        "    self.age = age\n",
        "\n",
        "  def greet(self):\n",
        "    print(f\"Hello, my name is {self.name} and I am {self.age} years old.\")\n",
        "\n",
        "# multiple objects\n",
        "person1 = Person(\"Alice\", 30)\n",
        "person2 = Person(\"Bob\", 25)\n",
        "\n",
        "person1.greet()\n",
        "person2.greet()"
      ],
      "metadata": {
        "colab": {
          "base_uri": "https://localhost:8080/"
        },
        "id": "_w6BdJlDYqHE",
        "outputId": "2f1170d0-0510-46cb-c01f-1b44b6c4ad6f"
      },
      "execution_count": 7,
      "outputs": [
        {
          "output_type": "stream",
          "name": "stdout",
          "text": [
            "Hello, my name is Alice and I am 30 years old.\n",
            "Hello, my name is Bob and I am 25 years old.\n"
          ]
        }
      ]
    },
    {
      "cell_type": "markdown",
      "source": [
        "# Project: Bank Account Simulator"
      ],
      "metadata": {
        "id": "adpLCluhWuAu"
      }
    },
    {
      "cell_type": "code",
      "source": [
        "class BankAccount:\n",
        "  def __init__(self, account_holder, initial_balance=0):\n",
        "    self.account_holder = account_holder\n",
        "    self.balance = initial_balance\n",
        "\n",
        "  # deposit money\n",
        "  def deposit(self, amount):\n",
        "    if amount > 0:\n",
        "      self.balance += amount\n",
        "      print(f\"Deposited ${amount}. New balance: ${self.balance}\")\n",
        "    else:\n",
        "      print(\"Invalid deposit amount. Amount must be greater than 0.\")\n",
        "\n",
        "  # withdraw money\n",
        "  def withdraw(self, amount):\n",
        "    if 0 < amount <= self.balance:\n",
        "      self.balance -= amount\n",
        "      print(f\"Withdrew ${amount}. New balance: ${self.balance}\")\n",
        "    else:\n",
        "      print(\"Invalid withdrawal amount or insufficient funds.\")\n",
        "\n",
        "  # show account details\n",
        "  def show_details(self):\n",
        "    print(\"\\n---- Account details -----\")\n",
        "    print(f\"Account Holder: {self.account_holder}\")\n",
        "    print(f\"Account Balance: ${self.balance}\")\n",
        "\n",
        "# main program\n",
        "accounts = {}\n",
        "\n",
        "def create_account():\n",
        "  name = input(\"Enter account holder's name: \").strip()\n",
        "  initial_balance = float(input(\"Enter initial balance: $\"))\n",
        "  account = BankAccount(name, initial_balance)\n",
        "  accounts[name] = account\n",
        "\n",
        "  print(\"Account created successfully!\")\n",
        "\n",
        "def access_account():\n",
        "  name = input(\"Enter your name: \").strip()\n",
        "  if name in accounts:\n",
        "    account = accounts[name]\n",
        "    while True:\n",
        "      print(\"\\n---- Menu ----\")\n",
        "      print(\"1. Deposit\")\n",
        "      print(\"2. Withdraw\")\n",
        "      print(\"3. Show Details\")\n",
        "      print(\"4. Exit\")\n",
        "\n",
        "      choice = input(\"Enter your choice: \")\n",
        "\n",
        "      if choice == '1':\n",
        "        amount = float(input(\"Enter deposit amount: $\"))\n",
        "        account.deposit(amount)\n",
        "      elif choice == '2':\n",
        "        amount = float(input(\"Enter withdrawal amount: $\"))\n",
        "        account.withdraw(amount)\n",
        "      elif choice == '3':\n",
        "        account.show_details()\n",
        "      elif choice == '4':\n",
        "        print(\"Exiting account...\")\n",
        "        break\n",
        "      else:\n",
        "        print(\"Invalid choice, please enter valid choice\")\n",
        "\n",
        "    else:\n",
        "      print(\"Account not found. Please create a new account.\")\n",
        "\n",
        "# main menu\n",
        "while True:\n",
        "  print(\"\\n---- Main Menu ----\")\n",
        "  print(\"1. Create Account\")\n",
        "  print(\"2. Access Account\")\n",
        "  print(\"3. Exit\")\n",
        "\n",
        "  choice = input(\"Enter your choice: \")\n",
        "\n",
        "  if choice == '1':\n",
        "    create_account()\n",
        "  elif choice == '2':\n",
        "    access_account()\n",
        "  elif choice == '3':\n",
        "    print(\"Exiting program...\")\n",
        "    break\n",
        "  else:\n",
        "    print(\"Invalid choice, please enter valid choice\")"
      ],
      "metadata": {
        "colab": {
          "base_uri": "https://localhost:8080/"
        },
        "id": "97ma0JOsZD4w",
        "outputId": "d6460d37-2405-400e-eb4c-c1317d409b19"
      },
      "execution_count": 8,
      "outputs": [
        {
          "output_type": "stream",
          "name": "stdout",
          "text": [
            "\n",
            "---- Main Menu ----\n",
            "1. Create Account\n",
            "2. Access Account\n",
            "3. Exit\n",
            "Enter your choice: 1\n",
            "Enter account holder's name: Gauri\n",
            "Enter initial balance: $300\n",
            "Account created successfully!\n",
            "\n",
            "---- Main Menu ----\n",
            "1. Create Account\n",
            "2. Access Account\n",
            "3. Exit\n",
            "Enter your choice: 2\n",
            "Enter your name: Gauri\n",
            "\n",
            "---- Menu ----\n",
            "1. Deposit\n",
            "2. Withdraw\n",
            "3. Show Details\n",
            "4. Exit\n",
            "Enter your choice: 1\n",
            "Enter deposit amount: $230\n",
            "Deposited $230.0. New balance: $530.0\n",
            "\n",
            "---- Menu ----\n",
            "1. Deposit\n",
            "2. Withdraw\n",
            "3. Show Details\n",
            "4. Exit\n",
            "Enter your choice: 2\n",
            "Enter withdrawal amount: $150\n",
            "Withdrew $150.0. New balance: $380.0\n",
            "\n",
            "---- Menu ----\n",
            "1. Deposit\n",
            "2. Withdraw\n",
            "3. Show Details\n",
            "4. Exit\n",
            "Enter your choice: 4\n",
            "Exiting account...\n",
            "\n",
            "---- Main Menu ----\n",
            "1. Create Account\n",
            "2. Access Account\n",
            "3. Exit\n",
            "Enter your choice: 3\n",
            "Exiting program...\n"
          ]
        }
      ]
    }
  ]
}