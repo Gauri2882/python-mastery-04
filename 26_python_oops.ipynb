{
  "nbformat": 4,
  "nbformat_minor": 0,
  "metadata": {
    "colab": {
      "provenance": []
    },
    "kernelspec": {
      "name": "python3",
      "display_name": "Python 3"
    },
    "language_info": {
      "name": "python"
    }
  },
  "cells": [
    {
      "cell_type": "markdown",
      "source": [
        "# Polymorphism\n",
        "\n",
        "* method over-riding\n",
        "* using polymorphism\n",
        "* real-world examples"
      ],
      "metadata": {
        "id": "4Yx7w8AbIHc4"
      }
    },
    {
      "cell_type": "code",
      "source": [
        "# method over-riding\n",
        "class Animal:\n",
        "  def make_sound(self):\n",
        "    print(\"The animal makes a sound\")\n",
        "\n",
        "class Dog(Animal):\n",
        "  def make_sound(self):\n",
        "    print(\"The dog barks\")\n",
        "\n",
        "class Cat(Animal):\n",
        "  def make_sound(self):\n",
        "    print(\"The cat meows\")\n",
        "\n",
        "animals = [Dog(), Cat()]\n",
        "\n",
        "for animal in animals:\n",
        "  animal.make_sound()"
      ],
      "metadata": {
        "colab": {
          "base_uri": "https://localhost:8080/"
        },
        "id": "YZG0p2M_U5Zw",
        "outputId": "f9928317-eac9-4191-f51e-a4af8835e8b0"
      },
      "execution_count": null,
      "outputs": [
        {
          "output_type": "stream",
          "name": "stdout",
          "text": [
            "The dog barks\n",
            "The cat meows\n"
          ]
        }
      ]
    },
    {
      "cell_type": "code",
      "source": [
        "class Shape:\n",
        "  def area(self):\n",
        "    print(\"Calculating area...\")\n",
        "\n",
        "class Circle(Shape):\n",
        "  def area(self):\n",
        "    print(\"Area of a circle: pi*r*r\")\n",
        "\n",
        "class Square(Shape):\n",
        "  def area(self):\n",
        "    print(\"Area of a square: side*side\")\n",
        "\n",
        "shapes = [Circle(), Square()]\n",
        "\n",
        "for shape in shapes:\n",
        "  shape.area()"
      ],
      "metadata": {
        "colab": {
          "base_uri": "https://localhost:8080/"
        },
        "id": "_z84Ybx7XcEh",
        "outputId": "e5893b49-8e8f-4f4b-e3ee-b7e54c3f7a0a"
      },
      "execution_count": null,
      "outputs": [
        {
          "output_type": "stream",
          "name": "stdout",
          "text": [
            "Area of a circle: pi*r*r\n",
            "Area of a square: side*side\n"
          ]
        }
      ]
    },
    {
      "cell_type": "code",
      "source": [
        "# using polymorphism in python, duck typing\n",
        "\n",
        "class Bird:\n",
        "  def make_sound(self):\n",
        "    print(\"The bird chips\")\n",
        "\n",
        "class Duck:\n",
        "  def make_sound(self):\n",
        "    print(\"The duck quacks\")\n",
        "\n",
        "def animal_sound(animal):\n",
        "  animal.make_sound()\n",
        "\n",
        "# polymorphism in function arguments\n",
        "\n",
        "bird = Bird()\n",
        "duck = Duck()\n",
        "\n",
        "animal_sound(bird)\n",
        "animal_sound(duck)"
      ],
      "metadata": {
        "colab": {
          "base_uri": "https://localhost:8080/"
        },
        "id": "EleZ5CtwX1LK",
        "outputId": "a17d92b2-f822-4ba9-9b33-5b79daaa586c"
      },
      "execution_count": null,
      "outputs": [
        {
          "output_type": "stream",
          "name": "stdout",
          "text": [
            "The bird chips\n",
            "The duck quacks\n"
          ]
        }
      ]
    },
    {
      "cell_type": "markdown",
      "source": [
        "# Project: Animal Sound Simulator"
      ],
      "metadata": {
        "id": "dEmgVVC6Upx9"
      }
    },
    {
      "cell_type": "code",
      "source": [
        "# base class\n",
        "class Animal:\n",
        "  def make_sound(self):\n",
        "    print(\"The animal makes a sound\")\n",
        "\n",
        "# derived classes\n",
        "class Dog(Animal):\n",
        "  def make_sound(self):\n",
        "    print(\"The dog barks\")\n",
        "\n",
        "class Cat(Animal):\n",
        "  def make_sound(self):\n",
        "    print(\"The cat meows\")\n",
        "\n",
        "class Cow(Animal):\n",
        "  def make_sound(self):\n",
        "    print(\"The cow moos\")\n",
        "\n",
        "class Duck(Animal):\n",
        "  def make_sound(self):\n",
        "    print(\"The duck quacks\")\n",
        "\n",
        "# simulator class\n",
        "class AnimalSoundSimulator:\n",
        "  def __init__(self):\n",
        "    self.animals = []\n",
        "\n",
        "  def add_animal(self, animal):\n",
        "    if isinstance(animal, Animal):\n",
        "      self.animals.append(animal)\n",
        "      print(f\"{animal.__class__.__name__} added to the simulator\")\n",
        "    else:\n",
        "      print(\"Invalid animal type\")\n",
        "\n",
        "  def make_all_sound(self):\n",
        "    if not self.animals:\n",
        "      print(\"No animals in the simulator\")\n",
        "    else:\n",
        "      print(\"\\n---- Animal Sounds ----\")\n",
        "      for animal in self.animals:\n",
        "        animal.make_sound()\n",
        "\n",
        "# main program\n",
        "simulator = AnimalSoundSimulator()\n",
        "\n",
        "while True:\n",
        "  print(\"\\n---- Animal Sound Simulator ----\")\n",
        "  print(\"1. Add Dog\")\n",
        "  print(\"2. Add Cat\")\n",
        "  print(\"3. Add Cow\")\n",
        "  print(\"4. Add Duck\")\n",
        "  print(\"5. Make All Sound\")\n",
        "  print(\"6. Exit\")\n",
        "\n",
        "  choice = input(\"Enter your choice: \")\n",
        "\n",
        "  if choice == '1':\n",
        "    dog = Dog()\n",
        "    simulator.add_animal(dog)\n",
        "  elif choice == '2':\n",
        "    cat = Cat()\n",
        "    simulator.add_animal(cat)\n",
        "  elif choice == '3':\n",
        "    cow = Cow()\n",
        "    simulator.add_animal(cow)\n",
        "  elif choice == '4':\n",
        "    duck = Duck()\n",
        "    simulator.add_animal(duck)\n",
        "  elif choice == '5':\n",
        "    simulator.make_all_sound()\n",
        "  elif choice == '6':\n",
        "    print(\"Exiting the simulator. Goodbye!\")\n",
        "    break\n",
        "  else:\n",
        "    print(\"Invalid choice. Please try again.\")"
      ],
      "metadata": {
        "colab": {
          "base_uri": "https://localhost:8080/"
        },
        "id": "Ehywa38mYrv8",
        "outputId": "cf3d9e85-d46c-4689-936f-b7cea157ea45"
      },
      "execution_count": 2,
      "outputs": [
        {
          "output_type": "stream",
          "name": "stdout",
          "text": [
            "\n",
            "---- Animal Sound Simulator ----\n",
            "1. Add Dog\n",
            "2. Add Cat\n",
            "3. Add Cow\n",
            "4. Add Duck\n",
            "5. Make All Sound\n",
            "6. Exit\n",
            "Enter your choice: 1\n",
            "Dog added to the simulator\n",
            "\n",
            "---- Animal Sound Simulator ----\n",
            "1. Add Dog\n",
            "2. Add Cat\n",
            "3. Add Cow\n",
            "4. Add Duck\n",
            "5. Make All Sound\n",
            "6. Exit\n",
            "Enter your choice: 2\n",
            "Cat added to the simulator\n",
            "\n",
            "---- Animal Sound Simulator ----\n",
            "1. Add Dog\n",
            "2. Add Cat\n",
            "3. Add Cow\n",
            "4. Add Duck\n",
            "5. Make All Sound\n",
            "6. Exit\n",
            "Enter your choice: 5\n",
            "\n",
            "---- Animal Sounds ----\n",
            "The dog barks\n",
            "The cat meows\n",
            "\n",
            "---- Animal Sound Simulator ----\n",
            "1. Add Dog\n",
            "2. Add Cat\n",
            "3. Add Cow\n",
            "4. Add Duck\n",
            "5. Make All Sound\n",
            "6. Exit\n",
            "Enter your choice: 2\n",
            "Cat added to the simulator\n",
            "\n",
            "---- Animal Sound Simulator ----\n",
            "1. Add Dog\n",
            "2. Add Cat\n",
            "3. Add Cow\n",
            "4. Add Duck\n",
            "5. Make All Sound\n",
            "6. Exit\n",
            "Enter your choice: 4\n",
            "Duck added to the simulator\n",
            "\n",
            "---- Animal Sound Simulator ----\n",
            "1. Add Dog\n",
            "2. Add Cat\n",
            "3. Add Cow\n",
            "4. Add Duck\n",
            "5. Make All Sound\n",
            "6. Exit\n",
            "Enter your choice: 5\n",
            "\n",
            "---- Animal Sounds ----\n",
            "The dog barks\n",
            "The cat meows\n",
            "The cat meows\n",
            "The duck quacks\n",
            "\n",
            "---- Animal Sound Simulator ----\n",
            "1. Add Dog\n",
            "2. Add Cat\n",
            "3. Add Cow\n",
            "4. Add Duck\n",
            "5. Make All Sound\n",
            "6. Exit\n",
            "Enter your choice: 6\n",
            "Exiting the simulator. Goodbye!\n"
          ]
        }
      ]
    }
  ]
}