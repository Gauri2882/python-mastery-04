{
  "nbformat": 4,
  "nbformat_minor": 0,
  "metadata": {
    "colab": {
      "provenance": []
    },
    "kernelspec": {
      "name": "python3",
      "display_name": "Python 3"
    },
    "language_info": {
      "name": "python"
    }
  },
  "cells": [
    {
      "cell_type": "markdown",
      "source": [
        "# Encapsulation\n",
        "\n",
        "* Public, Protected and Private Attributes\n",
        "* Getter and Setter methods\n",
        "* Validating user data"
      ],
      "metadata": {
        "id": "4Yx7w8AbIHc4"
      }
    },
    {
      "cell_type": "code",
      "source": [
        "class User:\n",
        "  def __init__(self, username, password):\n",
        "    self.username = username\n",
        "    self.__password = password\n",
        "\n",
        "  def get_password(self):\n",
        "    return \"*\" * (len(self.__password))\n",
        "\n",
        "  def set_password(self, new_password):\n",
        "    if len(new_password) >= 8:\n",
        "      self.__password = new_password\n",
        "      print(\"Password updated succesfully\")\n",
        "    else:\n",
        "      print(\"Password must be at least 8 characters long\")\n",
        "\n",
        "user = User(\"Gauri\", \"Gauri123\")\n",
        "print(f\"Username: {user.username}\")\n",
        "print(f\"Password: {user.get_password()}\")\n",
        ""
      ],
      "metadata": {
        "colab": {
          "base_uri": "https://localhost:8080/"
        },
        "id": "D5TIujQZ3GX0",
        "outputId": "3d5fc146-7b79-41f7-ecd5-6becbd4778ce"
      },
      "execution_count": 7,
      "outputs": [
        {
          "output_type": "stream",
          "name": "stdout",
          "text": [
            "Username: Gauri\n",
            "Password: ********\n"
          ]
        }
      ]
    },
    {
      "cell_type": "code",
      "source": [
        "# public, protected, private\n",
        "\n",
        "class UserProfile:\n",
        "  def __init__(self, username, email, password):\n",
        "    self.username = username\n",
        "    self._email = email\n",
        "    self.__password = password\n",
        "\n",
        "  def show_profile(self):\n",
        "    print(f\"Username: {self.username}\")\n",
        "    print(f\"Email: {self._email}\")\n",
        "    print(f\"Password: {self.__password}\")\n",
        "\n",
        "user = UserProfile(\"Gauri\", \"john.mclean@example.com\", \"Gauri123\")\n",
        "user.show_profile()"
      ],
      "metadata": {
        "colab": {
          "base_uri": "https://localhost:8080/"
        },
        "id": "mJm8XZha3FV3",
        "outputId": "f6f90d17-86a5-48d9-8624-61b7a9467e92"
      },
      "execution_count": 9,
      "outputs": [
        {
          "output_type": "stream",
          "name": "stdout",
          "text": [
            "Username: Gauri\n",
            "Email: john.mclean@example.com\n",
            "Password: Gauri123\n"
          ]
        }
      ]
    },
    {
      "cell_type": "code",
      "source": [
        "# getter and setter methods\n",
        "\n",
        "class Account:\n",
        "  def __init__(self, balance):\n",
        "    self.__balance = balance\n",
        "\n",
        "  def get_balance(self):\n",
        "    return self.__balance\n",
        "\n",
        "  def set_balance(self, new_balance):\n",
        "    if new_balance >= 0:\n",
        "      self.__balance = new_balance\n",
        "      print(\"Balance updated successfully\")\n",
        "    else:\n",
        "      print(\"Invalid balance\")\n",
        "\n",
        "account = Account(1000)\n",
        "print(account.get_balance())\n",
        "account.set_balance(2000)\n",
        "print(account.get_balance())"
      ],
      "metadata": {
        "colab": {
          "base_uri": "https://localhost:8080/"
        },
        "id": "4vq40I9W5oqB",
        "outputId": "583ca4aa-975d-49b3-8b18-089fede1197c"
      },
      "execution_count": 10,
      "outputs": [
        {
          "output_type": "stream",
          "name": "stdout",
          "text": [
            "1000\n",
            "Balance updated successfully\n",
            "2000\n"
          ]
        }
      ]
    },
    {
      "cell_type": "code",
      "source": [
        "# validating user data\n",
        "\n",
        "class User:\n",
        "  def __init__(self, username):\n",
        "    self.username = username\n",
        "    self.__password = None\n",
        "\n",
        "  def set_password(self, password):\n",
        "    if len(password) >= 8:\n",
        "      self.__password = password\n",
        "      print(\"Password set successfully\")\n",
        "    else:\n",
        "      print(\"Password must be at least 8 characters long\")\n",
        "\n",
        "  def get_password(self):\n",
        "    return \"*\" * (len(self.__password))\n",
        "\n",
        "user = User(\"Gauri\")\n",
        "user.set_password(\"Gauri123\")\n",
        "print(user.get_password())"
      ],
      "metadata": {
        "colab": {
          "base_uri": "https://localhost:8080/"
        },
        "id": "Zb0fQ88z6Kcs",
        "outputId": "6734b2c7-8065-4f24-a584-f1c6772695de"
      },
      "execution_count": 11,
      "outputs": [
        {
          "output_type": "stream",
          "name": "stdout",
          "text": [
            "Password set successfully\n",
            "********\n"
          ]
        }
      ]
    },
    {
      "cell_type": "markdown",
      "source": [
        "# Project: Secure User Profile App"
      ],
      "metadata": {
        "id": "jjSKDVHh3HK4"
      }
    },
    {
      "cell_type": "code",
      "source": [
        "class UserProfile:\n",
        "  def __init__(self, username, email, password):\n",
        "    self.username = username\n",
        "    self._email = email\n",
        "    self.__password = password\n",
        "    self.set_password(password)\n",
        "\n",
        "  # getter for email\n",
        "  def get_email(self):\n",
        "    return self._email\n",
        "\n",
        "  # setter for email\n",
        "  def set_email(self, new_email):\n",
        "    if \"@\" in new_email and \".\" in new_email:\n",
        "      self._email = new_email\n",
        "      print(\"Email updated successfully\")\n",
        "    else:\n",
        "      print(\"Invalid email\")\n",
        "\n",
        "  # setter for password\n",
        "  def set_password(self, new_password):\n",
        "    if len(new_password) >= 8:\n",
        "      self.__password = new_password\n",
        "      print(\"Password updated successfully\")\n",
        "    else:\n",
        "      print(\"Password must be at least 8 characters long\")\n",
        "\n",
        "  # display profile\n",
        "  def show_profile(self):\n",
        "    print(\"\\n---- User Profile\")\n",
        "    print(f\"Username: {self.username}\")\n",
        "    print(f\"Email: {self._email}\")\n",
        "    print(f\"Password: {self.__password}\")\n",
        "\n",
        "# Main Program\n",
        "users = []\n",
        "\n",
        "def create_user():\n",
        "  username = input(\"Enter username: \")\n",
        "  email = input(\"Enter email: \")\n",
        "  password = input(\"Enter password: \")\n",
        "  user = UserProfile(username, email, password)\n",
        "  users.append(user)\n",
        "  print(\"User created successfully\")\n",
        "\n",
        "def view_profile():\n",
        "  if not users:\n",
        "    print(\"No users found\")\n",
        "  else:\n",
        "    for user in users:\n",
        "      user.show_profile()\n",
        "\n",
        "def update_email():\n",
        "  username = input(\"Enter username to update email: \")\n",
        "  for user in users:\n",
        "    if user.username == username:\n",
        "      new_email = input(\"Enter new email: \")\n",
        "      user.set_email(new_email)\n",
        "      return\n",
        "  print(\"User not found\")\n",
        "\n",
        "# Main Menu\n",
        "\n",
        "while True:\n",
        "  print(\"\\n---- User Profile App ----\")\n",
        "  print(\"1. Create User\")\n",
        "  print(\"2. View Profile\")\n",
        "  print(\"3. Update Email\")\n",
        "  print(\"4. Exit\")\n",
        "\n",
        "  choice = input(\"Enter your choice: \")\n",
        "\n",
        "  if choice == \"1\":\n",
        "    create_user()\n",
        "  elif choice == \"2\":\n",
        "    view_profile()\n",
        "  elif choice == \"3\":\n",
        "    update_email()\n",
        "  elif choice == \"4\":\n",
        "    print(\"Exiting the program\")\n",
        "    break\n",
        "  else:\n",
        "    print(\"Invalid choice\")"
      ],
      "metadata": {
        "colab": {
          "base_uri": "https://localhost:8080/"
        },
        "id": "I_ztB0ri6m7t",
        "outputId": "1976ac41-a06f-4151-833d-09037eaba4b5"
      },
      "execution_count": 12,
      "outputs": [
        {
          "output_type": "stream",
          "name": "stdout",
          "text": [
            "\n",
            "---- User Profile App ----\n",
            "1. Create User\n",
            "2. View Profile\n",
            "3. Update Email\n",
            "4. Exit\n",
            "Enter your choice: 1\n",
            "Enter username: gauri1\n",
            "Enter email: ga.uri@example.com\n",
            "Enter password: Gauri123\n",
            "Password updated successfully\n",
            "User created successfully\n",
            "\n",
            "---- User Profile App ----\n",
            "1. Create User\n",
            "2. View Profile\n",
            "3. Update Email\n",
            "4. Exit\n",
            "Enter your choice: 1\n",
            "Enter username: gauri2\n",
            "Enter email: gau.ri@example.com\n",
            "Enter password: Gauri2345\n",
            "Password updated successfully\n",
            "User created successfully\n",
            "\n",
            "---- User Profile App ----\n",
            "1. Create User\n",
            "2. View Profile\n",
            "3. Update Email\n",
            "4. Exit\n",
            "Enter your choice: 2\n",
            "\n",
            "---- User Profile\n",
            "Username: gauri1\n",
            "Email: ga.uri@example.com\n",
            "Password: Gauri123\n",
            "\n",
            "---- User Profile\n",
            "Username: gauri2\n",
            "Email: gau.ri@example.com\n",
            "Password: Gauri2345\n",
            "\n",
            "---- User Profile App ----\n",
            "1. Create User\n",
            "2. View Profile\n",
            "3. Update Email\n",
            "4. Exit\n",
            "Enter your choice: 3\n",
            "Enter username to update email: gauri2\n",
            "Enter new email: gauri.patil@example.com\n",
            "Email updated successfully\n",
            "\n",
            "---- User Profile App ----\n",
            "1. Create User\n",
            "2. View Profile\n",
            "3. Update Email\n",
            "4. Exit\n",
            "Enter your choice: 2\n",
            "\n",
            "---- User Profile\n",
            "Username: gauri1\n",
            "Email: ga.uri@example.com\n",
            "Password: Gauri123\n",
            "\n",
            "---- User Profile\n",
            "Username: gauri2\n",
            "Email: gauri.patil@example.com\n",
            "Password: Gauri2345\n",
            "\n",
            "---- User Profile App ----\n",
            "1. Create User\n",
            "2. View Profile\n",
            "3. Update Email\n",
            "4. Exit\n",
            "Enter your choice: 4\n",
            "Exiting the program\n"
          ]
        }
      ]
    }
  ]
}