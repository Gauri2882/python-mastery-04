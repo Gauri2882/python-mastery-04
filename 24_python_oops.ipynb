{
  "nbformat": 4,
  "nbformat_minor": 0,
  "metadata": {
    "colab": {
      "provenance": []
    },
    "kernelspec": {
      "name": "python3",
      "display_name": "Python 3"
    },
    "language_info": {
      "name": "python"
    }
  },
  "cells": [
    {
      "cell_type": "markdown",
      "source": [
        "# Constructors and Methods\n",
        "\n",
        "* using instance method\n",
        "* class methods vs static method\n",
        "* encapsulation and validation"
      ],
      "metadata": {
        "id": "4Yx7w8AbIHc4"
      }
    },
    {
      "cell_type": "code",
      "source": [
        "class Book:\n",
        "  def __init__(self, title, author):\n",
        "    self.title = title\n",
        "    self.author = author\n",
        "\n",
        "  def display_info(self):\n",
        "    print(f\"Title: {self.title}\")\n",
        "    print(f\"Author: {self.author}\")\n",
        "\n",
        "\n",
        "# create an object\n",
        "book1 = Book(\"Python Programming\", \"John Doe\")\n",
        "\n",
        "# call the method\n",
        "book1.display_info()"
      ],
      "metadata": {
        "colab": {
          "base_uri": "https://localhost:8080/"
        },
        "id": "YJNn8-a9dcS2",
        "outputId": "3c86263b-0b72-4fba-be34-92b1bc99e3d9"
      },
      "execution_count": 3,
      "outputs": [
        {
          "output_type": "stream",
          "name": "stdout",
          "text": [
            "Title: Python Programming\n",
            "Author: John Doe\n"
          ]
        }
      ]
    },
    {
      "cell_type": "code",
      "source": [
        "class Bank:\n",
        "  def __init__(self, owner, balance):\n",
        "    self.owner = owner\n",
        "    self.balance = balance\n",
        "\n",
        "  def deposit(self, amount):\n",
        "    self.balance += amount\n",
        "    print(f\"Deposited ${amount}. New balance: ${self.balance}\")\n",
        "\n",
        "account = Bank(\"John Doe\", 1000)\n",
        "account.deposit(500)"
      ],
      "metadata": {
        "colab": {
          "base_uri": "https://localhost:8080/"
        },
        "id": "UdEOoLvJeCrt",
        "outputId": "0e010e6c-2c9d-49f6-9f71-f17023f9cc0f"
      },
      "execution_count": 4,
      "outputs": [
        {
          "output_type": "stream",
          "name": "stdout",
          "text": [
            "Deposited $500. New balance: $1500\n"
          ]
        }
      ]
    },
    {
      "cell_type": "code",
      "source": [
        "class Utility:\n",
        "  app_version = \"1.0\"\n",
        "\n",
        "  @classmethod\n",
        "  def get_version(cls):\n",
        "    print(f\"App version: {cls.app_version}\")\n",
        "\n",
        "  @staticmethod\n",
        "  def greet():\n",
        "    print(\"Welcome to the utility class!\")\n",
        "\n",
        "Utility.get_version()\n",
        "Utility.greet()"
      ],
      "metadata": {
        "colab": {
          "base_uri": "https://localhost:8080/"
        },
        "id": "vxi8y47SetvJ",
        "outputId": "3a7a3f01-0b4a-4811-fc83-bf81b62a6c8e"
      },
      "execution_count": 5,
      "outputs": [
        {
          "output_type": "stream",
          "name": "stdout",
          "text": [
            "App version: 1.0\n",
            "Welcome to the utility class!\n"
          ]
        }
      ]
    },
    {
      "cell_type": "code",
      "source": [
        "class Account:\n",
        "  def __init__(self, owner, balance = 0):\n",
        "    self.owner = owner\n",
        "    self.__balance = balance\n",
        "\n",
        "  def deposit(self, amount):\n",
        "    if amount > 0:\n",
        "      self.__balance += amount\n",
        "      print(f\"Deposited ${amount}. New balance: ${self.__balance}\")\n",
        "    else:\n",
        "      print(\"Invalid deposit amount.\")\n",
        "\n",
        "  def get_balance(self):\n",
        "    return self.__balance\n",
        "\n",
        "account = Account(\"John Doe\")\n",
        "account.deposit(1000)\n",
        "\n",
        "print(account.owner)\n",
        "# print(account.balance) --- this will throw error\n",
        "\n",
        "print(f\"Balance: ${account.get_balance()}\")"
      ],
      "metadata": {
        "colab": {
          "base_uri": "https://localhost:8080/"
        },
        "id": "usR8_caLDpAh",
        "outputId": "b0fb2683-20d4-49c1-e8b6-fd630da71454"
      },
      "execution_count": 6,
      "outputs": [
        {
          "output_type": "stream",
          "name": "stdout",
          "text": [
            "Deposited $1000. New balance: $1000\n",
            "John Doe\n",
            "Balance: $1000\n"
          ]
        }
      ]
    },
    {
      "cell_type": "markdown",
      "source": [
        "# Project: Library Management System"
      ],
      "metadata": {
        "id": "-iHoLiR0dExI"
      }
    },
    {
      "cell_type": "code",
      "source": [
        "class Book:\n",
        "  def __init__(self, title, author):\n",
        "    self.title = title\n",
        "    self.author = author\n",
        "    self.is_borrowed = False\n",
        "\n",
        "  def display_info(self):\n",
        "    status = \"Available\" if not self.is_borrowed else \"Borrowed\"\n",
        "    print(f\"\\nTitle: {self.title}\")\n",
        "    print(f\"Author: {self.author}\")\n",
        "    print(f\"Status: {status}\")\n",
        "\n",
        "class Library:\n",
        "  def __init__(self):\n",
        "    self.books = []\n",
        "\n",
        "  def add_book(self, title, author):\n",
        "    book = Book(title, author)\n",
        "    self.books.append(book)\n",
        "    print(f\"Book '{title}' by {author} added to the library.\")\n",
        "\n",
        "  # view all books\n",
        "  def view_books(self):\n",
        "    if not self.books:\n",
        "      print(\"No books in the library.\")\n",
        "    else:\n",
        "      print(\"\\n---- Library Books ----\")\n",
        "      for book in self.books:\n",
        "        book.display_info()\n",
        "\n",
        "  # borrow a book\n",
        "  def borrow_book(self, title):\n",
        "    for book in self.books:\n",
        "      if book.title == title and not book.is_borrowed:\n",
        "        book.is_borrowed = True\n",
        "        print(f\"Book '{title}' has been borrowed.\")\n",
        "        return\n",
        "    print(f\"Book '{title}' is not available for borrowing.\")\n",
        "\n",
        "\n",
        "  # return a book\n",
        "  def return_book(self, title):\n",
        "    for book in self.books:\n",
        "      if book.title == title and book.is_borrowed:\n",
        "        book.is_borrowed = False\n",
        "        print(f\"Book '{title}' has been returned.\")\n",
        "        return\n",
        "    print(f\"Book '{title}' is not in the library.\")\n",
        "\n",
        "\n",
        "  # main program\n",
        "library = Library()\n",
        "\n",
        "while True:\n",
        "    print(\"\\nLibrary Management System\")\n",
        "    print(\"1. Add Book\")\n",
        "    print(\"2. View Books\")\n",
        "    print(\"3. Borrow Book\")\n",
        "    print(\"4. Return Book\")\n",
        "    print(\"5. Exit\")\n",
        "\n",
        "    choice = input(\"Enter your choice (1-5): \")\n",
        "\n",
        "    if choice == \"1\":\n",
        "      title = input(\"Enter book title: \")\n",
        "      author = input(\"Enter author name: \")\n",
        "      library.add_book(title, author)\n",
        "    elif choice == \"2\":\n",
        "      library.view_books()\n",
        "    elif choice == \"3\":\n",
        "      title = input(\"Enter book title to borrow: \")\n",
        "      library.borrow_book(title)\n",
        "    elif choice == \"4\":\n",
        "      title = input(\"Enter book title to return: \")\n",
        "      library.return_book(title)\n",
        "    elif choice == \"5\":\n",
        "      print(\"Exiting the library management system.\")\n",
        "      break\n",
        "    else:\n",
        "      print(\"Invalid choice. Please try again.\")\n",
        "\n"
      ],
      "metadata": {
        "colab": {
          "base_uri": "https://localhost:8080/"
        },
        "id": "mTj5NeZgEyfe",
        "outputId": "a8684d08-b2b2-4b58-ba82-41101b6eeb0b"
      },
      "execution_count": 2,
      "outputs": [
        {
          "output_type": "stream",
          "name": "stdout",
          "text": [
            "\n",
            "Library Management System\n",
            "1. Add Book\n",
            "2. View Books\n",
            "3. Borrow Book\n",
            "4. Return Book\n",
            "5. Exit\n",
            "Enter your choice (1-5): 1\n",
            "Enter book title: ABC\n",
            "Enter author name: abc\n",
            "Book 'ABC' by abc added to the library.\n",
            "\n",
            "Library Management System\n",
            "1. Add Book\n",
            "2. View Books\n",
            "3. Borrow Book\n",
            "4. Return Book\n",
            "5. Exit\n",
            "Enter your choice (1-5): 1\n",
            "Enter book title: DEF\n",
            "Enter author name: def\n",
            "Book 'DEF' by def added to the library.\n",
            "\n",
            "Library Management System\n",
            "1. Add Book\n",
            "2. View Books\n",
            "3. Borrow Book\n",
            "4. Return Book\n",
            "5. Exit\n",
            "Enter your choice (1-5): 2\n",
            "\n",
            "---- Library Books ----\n",
            "\n",
            "Title: ABC\n",
            "Author: abc\n",
            "Status: Available\n",
            "\n",
            "Title: DEF\n",
            "Author: def\n",
            "Status: Available\n",
            "\n",
            "Library Management System\n",
            "1. Add Book\n",
            "2. View Books\n",
            "3. Borrow Book\n",
            "4. Return Book\n",
            "5. Exit\n",
            "Enter your choice (1-5): 3\n",
            "Enter book title to borrow: ABC\n",
            "Book 'ABC' has been borrowed.\n",
            "\n",
            "Library Management System\n",
            "1. Add Book\n",
            "2. View Books\n",
            "3. Borrow Book\n",
            "4. Return Book\n",
            "5. Exit\n",
            "Enter your choice (1-5): 4\n",
            "Enter book title to return: ABC\n",
            "Book 'ABC' has been returned.\n",
            "\n",
            "Library Management System\n",
            "1. Add Book\n",
            "2. View Books\n",
            "3. Borrow Book\n",
            "4. Return Book\n",
            "5. Exit\n",
            "Enter your choice (1-5): 2\n",
            "\n",
            "---- Library Books ----\n",
            "\n",
            "Title: ABC\n",
            "Author: abc\n",
            "Status: Available\n",
            "\n",
            "Title: DEF\n",
            "Author: def\n",
            "Status: Available\n",
            "\n",
            "Library Management System\n",
            "1. Add Book\n",
            "2. View Books\n",
            "3. Borrow Book\n",
            "4. Return Book\n",
            "5. Exit\n",
            "Enter your choice (1-5): 5\n",
            "Exiting the library management system.\n"
          ]
        }
      ]
    }
  ]
}